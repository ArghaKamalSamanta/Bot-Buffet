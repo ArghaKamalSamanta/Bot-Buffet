{
  "cells": [
    {
      "cell_type": "markdown",
      "metadata": {
        "id": "c8ako3aiYJ93"
      },
      "source": [
        "## Installing Dependencies"
      ]
    },
    {
      "cell_type": "code",
      "execution_count": null,
      "metadata": {
        "colab": {
          "base_uri": "https://localhost:8080/"
        },
        "id": "VamHvjLvW1rE",
        "outputId": "7a2ee8f1-9909-43e8-cbd1-1d82a5e018ec"
      },
      "outputs": [],
      "source": [
        "!pip install langchain\n",
        "!pip install -U langchain-openai\n",
        "!pip install pdfplumber\n",
        "!pip install easyocr"
      ]
    },
    {
      "cell_type": "markdown",
      "metadata": {
        "id": "N8cE_pERZpHv"
      },
      "source": [
        "## Data"
      ]
    },
    {
      "cell_type": "code",
      "execution_count": null,
      "metadata": {
        "id": "HHoEZMKUr2Kq"
      },
      "outputs": [],
      "source": [
        "## Paths of the Data file\n",
        "\n",
        "conceptual_theory_path = '/content/drive/MyDrive/BotBuffet/brief theory of ratios.pdf'\n",
        "annual_report_path = '/content/Reliance_annual-results (1).csv'\n",
        "balance_sheet_path = '/content/Reliance_balance-sheet.csv'\n",
        "cash_flow_path = '/content/Reliance_cash-flow.csv'\n",
        "financial_ratios_path = '/content/Reliance_financial-ratios.csv'\n",
        "news_path = '/content/sample_news.csv'"
      ]
    },
    {
      "cell_type": "markdown",
      "metadata": {
        "id": "6Nj83pXTYOjl"
      },
      "source": [
        "## Calling Model"
      ]
    },
    {
      "cell_type": "code",
      "execution_count": null,
      "metadata": {
        "id": "9fDRsHYsX4Du"
      },
      "outputs": [],
      "source": [
        "import os\n",
        "\n",
        "from langchain_openai import ChatOpenAI\n",
        "from langchain.chat_models import ChatOpenAI\n",
        "from langchain.prompts import ChatPromptTemplate\n",
        "from langchain_core.output_parsers import StrOutputParser\n",
        "\n",
        "from IPython.core.display import display, HTML\n",
        "import pdfplumber"
      ]
    },
    {
      "cell_type": "code",
      "execution_count": null,
      "metadata": {
        "id": "KncpqIy_X8En"
      },
      "outputs": [],
      "source": [
        "# Set your OpenAI API key for authentication\n",
        "os.environ[\"OPENAI_API_KEY\"] = \"YOUR_OPENAI_API_KEY\"\n",
        "\n",
        "# --- User-defined Parameters for OpenAI Model Configuration ---\n",
        "\n",
        "# Define the openAI model to use for language processing\n",
        "model_name = \"gpt-4-turbo-preview\"\n",
        "\n",
        "# Define the temperature setting for the model\n",
        "temperature = 0.0"
      ]
    },
    {
      "cell_type": "code",
      "execution_count": null,
      "metadata": {
        "colab": {
          "base_uri": "https://localhost:8080/"
        },
        "id": "4b017fWRYFOy",
        "outputId": "134e4da0-a95b-4a46-8e00-761076f98c96"
      },
      "outputs": [
        {
          "name": "stderr",
          "output_type": "stream",
          "text": [
            "/usr/local/lib/python3.10/dist-packages/langchain_core/_api/deprecation.py:117: LangChainDeprecationWarning: The class `langchain_community.chat_models.openai.ChatOpenAI` was deprecated in langchain-community 0.0.10 and will be removed in 0.2.0. An updated version of the class exists in the langchain-openai package and should be used instead. To use it run `pip install -U langchain-openai` and import as `from langchain_openai import ChatOpenAI`.\n",
            "  warn_deprecated(\n"
          ]
        }
      ],
      "source": [
        "model = ChatOpenAI(model_name=model_name, temperature=temperature)"
      ]
    },
    {
      "cell_type": "markdown",
      "metadata": {
        "id": "XJTgpaalYRER"
      },
      "source": [
        "## Quantitative Analysis"
      ]
    },
    {
      "cell_type": "code",
      "execution_count": null,
      "metadata": {
        "id": "RB7mN1sYZ2fy"
      },
      "outputs": [],
      "source": [
        "company_name = \"Reliance Industries Limited\""
      ]
    },
    {
      "cell_type": "code",
      "execution_count": null,
      "metadata": {
        "id": "-CxssKjUYI2L"
      },
      "outputs": [],
      "source": [
        "from tqdm import tqdm\n",
        "\n",
        "def extract_text_from_pdf(pdf_path):\n",
        "    text = \"\"\n",
        "    with pdfplumber.open(pdf_path) as pdf:\n",
        "        pages = pdf.pages\n",
        "        for page in tqdm(pages, desc=\"Extracting text\", unit=\"page\"):\n",
        "            text += page.extract_text()\n",
        "    return text\n",
        "\n",
        "# Extract text from the PDF\n",
        "conceptual_theory = extract_text_from_pdf(conceptual_theory_path)"
      ]
    },
    {
      "cell_type": "code",
      "execution_count": null,
      "metadata": {
        "id": "n66tDnF0Zmmu"
      },
      "outputs": [],
      "source": [
        "import pandas as pd\n",
        "\n",
        "def read_csv_as_string(file_path):\n",
        "    try:\n",
        "        df = pd.read_csv(file_path)\n",
        "        csv_content = df.to_csv(index=False)\n",
        "        return csv_content\n",
        "    except FileNotFoundError:\n",
        "        return \"File not found.\"\n",
        "\n",
        "annual_results = read_csv_as_string(annual_report_path)\n",
        "balance_sheet = read_csv_as_string(balance_sheet_path)\n",
        "cash_flow = read_csv_as_string(cash_flow_path)\n",
        "financial_ratios = read_csv_as_string(financial_ratios_path)"
      ]
    },
    {
      "cell_type": "code",
      "execution_count": null,
      "metadata": {
        "colab": {
          "base_uri": "https://localhost:8080/",
          "height": 651
        },
        "id": "xtfzFgzYZ3Z1",
        "outputId": "faa56fee-a10d-4a62-c95c-37819e92843d"
      },
      "outputs": [
        {
          "data": {
            "text/html": [
              "\n",
              "<h2 style='font-family: Arial, Helvetica, sans-serif; color: white;'>Fundametal(Quantitative) Analysis</h2>\n",
              "<div style='font-family: Arial, Helvetica, sans-serif; font-size: 18px; color: white; line-height: 1.5; padding: 10px; border-radius: 5px;'>\n",
              "### Fundamental Analysis Report of Reliance Industries Limited\n",
              "\n",
              "#### 1. Company Name: Reliance Industries Limited\n",
              "\n",
              "#### 2. About the Company:\n",
              "Reliance Industries Limited (RIL) is a diversified conglomerate with businesses spanning across sectors such as petrochemicals, refining, oil & gas exploration, telecommunications, and retail. It is one of India's largest private sector companies.\n",
              "\n",
              "#### 3. Display the Data and Values:\n",
              "\n",
              "- **Revenue from Operations (Net) for FY 2022-23:** Rs. 528,315 Crores\n",
              "- **Total Revenue for FY 2022-23:** Rs. 539,544 Crores\n",
              "- **Profit/Loss Before Tax for FY 2022-23:** Rs. 54,133 Crores\n",
              "- **Profit/Loss After Tax for FY 2022-23:** Rs. 43,017 Crores\n",
              "- **Basic EPS for FY 2022-23:** Rs. 65.34\n",
              "- **Equity Share Dividend for FY 2022-23:** Rs. 5,083 Crores\n",
              "- **Equity Dividend Rate for FY 2022-23:** 90%\n",
              "\n",
              "#### 4. Financial Ratios and Implications:\n",
              "\n",
              "- **CAGR (3 Years):** The Compound Annual Growth Rate (CAGR) for revenue from operations is not directly provided, but the growth from FY 2019-20 to FY 2022-23 indicates a strong upward trajectory, suggesting a robust expansion of the company's business operations.\n",
              "  \n",
              "- **Profit Margin:** The profit after tax for FY 2022-23 is Rs. 43,017 Crores on a total revenue of Rs. 539,544 Crores, resulting in a profit margin of approximately 7.97%. This indicates a healthy profitability level, showcasing the company's ability to convert sales into actual profits effectively.\n",
              "  \n",
              "- **Earnings Per Share (EPS):** The Basic EPS of Rs. 65.34 for FY 2022-23 indicates the amount of profit attributable to each share of the company. An increasing EPS trend suggests that the company is becoming more profitable, which is a positive sign for investors.\n",
              "  \n",
              "- **Dividend Rate:** The equity dividend rate of 90% for FY 2022-23 is a strong indicator of the company's commitment to returning value to its shareholders. It reflects the company's financial health and its confidence in future cash flows.\n",
              "\n",
              "#### 5. Sentiment of the Stock: Strong Buy\n",
              "\n",
              "Based on the financial analysis of Reliance Industries Limited, the sentiment towards the stock is a **Strong Buy**. The reasons are as follows:\n",
              "\n",
              "- **Growth:** The company has shown significant growth in revenue and profitability over the past few years, indicating strong business operations and market presence.\n",
              "  \n",
              "- **Profitability:** The profit margins and EPS growth suggest that the company is not only growing but also becoming more efficient and profitable, which is a positive sign for potential investors.\n",
              "  \n",
              "- **Dividend:** The high dividend rate showcases the company's ability to generate ample cash flows and its willingness to share profits with shareholders, making it an attractive investment for income-seeking investors.\n",
              "\n",
              "- **Diversification:** RIL's diversified business model across critical sectors provides a hedge against sector-specific risks and allows for multiple streams of income, contributing to the overall stability and growth prospects of the company.\n",
              "\n",
              "In conclusion, Reliance Industries Limited presents a compelling investment opportunity based on its strong financial performance, growth prospects, and shareholder-friendly policies. However, investors are advised to consider their investment goals, risk tolerance, and market conditions before making investment decisions.\n",
              "</div>\n"
            ],
            "text/plain": [
              "<IPython.core.display.HTML object>"
            ]
          },
          "metadata": {},
          "output_type": "display_data"
        }
      ],
      "source": [
        "prompt = ChatPromptTemplate.from_template(\"\"\"\n",
        "```{financial_ratios}``` has the financial ratios of Tata Motors. Go through it once.\n",
        "Now,\n",
        "1. ```{annual_results}```\n",
        "2. ```{balance_sheet}```\n",
        "3. ```{cash_flow}```\n",
        "\n",
        "are 3 more files about companys financial information.\n",
        "Analyse these files, and keep in mind the analysis and results you have taken out beforehand, and generate a fundamental analysis report  of the company in the following format:\n",
        "\n",
        "1. Company name : {company_name}\n",
        "2. About the company in 2 lines.\n",
        "3. Display the data and values\n",
        "4. Show financial ratios one by one, the value and its implications.\n",
        "5. According to the result, what sthe sentiment of the stock, whther strong buy or strong sell.\n",
        "\n",
        "Use numbers wherever required and make sure to be 100 percent confident with your stance.\n",
        "Give me a complete analysis.\n",
        "\"\"\")\n",
        "\n",
        "output_parser = StrOutputParser()\n",
        "\n",
        "chain = prompt | model | output_parser\n",
        "\n",
        "quantitative_analysis = chain.invoke({\"financial_ratios\" : financial_ratios,\"annual_results\" : annual_results,\n",
        "                        \"balance_sheet\" : balance_sheet, \"cash_flow\" : cash_flow, \"company_name\" : company_name})\n",
        "\n",
        "display(HTML(f\"\"\"\n",
        "<h2 style='font-family: Arial, Helvetica, sans-serif; color: white;'>Fundametal(Quantitative) Analysis</h2>\n",
        "<div style='font-family: Arial, Helvetica, sans-serif; font-size: 18px; color: white; line-height: 1.5; padding: 10px; border-radius: 5px;'>\n",
        "{quantitative_analysis}\n",
        "</div>\n",
        "\"\"\"))"
      ]
    },
    {
      "cell_type": "markdown",
      "metadata": {
        "id": "3Bq7tMuCqpRF"
      },
      "source": [
        "## Qualitative Analysis"
      ]
    },
    {
      "cell_type": "markdown",
      "metadata": {
        "id": "M2DnWlnCqtCN"
      },
      "source": [
        "## 1. News Analysis"
      ]
    },
    {
      "cell_type": "code",
      "execution_count": null,
      "metadata": {
        "id": "iHcJr8AOqnTH"
      },
      "outputs": [],
      "source": [
        "news = pd.read_csv(news_path)"
      ]
    },
    {
      "cell_type": "code",
      "execution_count": null,
      "metadata": {
        "id": "E5Uf2nEaqy3a"
      },
      "outputs": [],
      "source": [
        "dates = news['Date'].tolist()\n",
        "\n",
        "# Group by date and aggregate the article title into a list\n",
        "grouped = news.groupby('Date')['Article title'].agg(list).reset_index()\n",
        "\n",
        "# Function to convert a list of events into a string\n",
        "def events_to_string(events):\n",
        "    if len(events) == 1:\n",
        "        return events[0]\n",
        "    else:\n",
        "        return ', '.join(events[:-1]) + ' and ' + events[-1]\n",
        "\n",
        "# Apply the function to the list of events\n",
        "grouped['summary'] = grouped['Article title'].apply(events_to_string)\n",
        "\n",
        "# Create the final summary string for each date\n",
        "grouped['final_summary'] = grouped.apply(lambda row: f\"On {row['Date']}, {row['summary']} occurred.\", axis=1)\n",
        "\n",
        "# Combine all the final summaries\n",
        "combined_summary = ' '.join(grouped['final_summary'])"
      ]
    },
    {
      "cell_type": "code",
      "execution_count": null,
      "metadata": {
        "colab": {
          "base_uri": "https://localhost:8080/",
          "height": 300
        },
        "id": "gSTcp51Iq2F7",
        "outputId": "d7efa775-2af5-462f-98bf-f9c99fad9503"
      },
      "outputs": [
        {
          "data": {
            "text/html": [
              "\n",
              "<h2 style='font-family: Arial, Helvetica, sans-serif; color: white;'>News Summary:</h2>\n",
              "<div style='font-family: Arial, Helvetica, sans-serif; font-size: 18px; color: white; line-height: 1.5; padding: 10px; border-radius: 5px;'>\n",
              "In a series of significant developments throughout February and March 2024, Reliance Industries Limited (RIL) led by Mukesh Ambani has made substantial strides in expanding its business empire and consolidating its position in the Indian market. The company marked a historic milestone by becoming the first Indian company to cross Rs 20 lakh crore in market capitalisation in February, underscoring its dominant position in the country's corporate landscape. A major highlight was the announcement of a merger between RIL's media business and Disney, creating an $8.5 billion joint venture that aims to transform India's media and entertainment landscape. Additionally, RIL's ventures into new domains, including the setup of EV charging infrastructure through Jio-bp and entering the soundbox segment with Jio Payments, indicate its aggressive push towards diversification and innovation. These moves, coupled with strategic partnerships and expansions, such as the potential talks with Paramount for a stake sale and the launch of an AI model backed by Mukesh Ambani, further cement RIL's influence across various sectors in India.\n",
              "</div>\n"
            ],
            "text/plain": [
              "<IPython.core.display.HTML object>"
            ]
          },
          "metadata": {},
          "output_type": "display_data"
        }
      ],
      "source": [
        "prompt = ChatPromptTemplate.from_template(\"\"\"\n",
        "I would like you to write a summary of news.\n",
        "I am going to tell you some of the relevant article descriptions.\n",
        "I will provide you with all the headlines and the dates on which the headlines were written.\n",
        "Here you go: ```{combined_summary}```\n",
        "Write a brief summary on it.\n",
        "Disregard all news unrelated to {company}.\n",
        "I do not need a summary of each individual day of news.\n",
        "Your summary should be about 5 sentences long!\n",
        "\"\"\")\n",
        "\n",
        "output_parser = StrOutputParser()\n",
        "\n",
        "chain = prompt | model | output_parser\n",
        "\n",
        "news_summary = chain.invoke({\"combined_summary\": combined_summary, \"company\": company_name})\n",
        "\n",
        "display(HTML(f\"\"\"\n",
        "<h2 style='font-family: Arial, Helvetica, sans-serif; color: white;'>News Summary:</h2>\n",
        "<div style='font-family: Arial, Helvetica, sans-serif; font-size: 18px; color: white; line-height: 1.5; padding: 10px; border-radius: 5px;'>\n",
        "{news_summary}\n",
        "</div>\n",
        "\"\"\"))"
      ]
    },
    {
      "cell_type": "code",
      "execution_count": null,
      "metadata": {
        "colab": {
          "base_uri": "https://localhost:8080/",
          "height": 111
        },
        "id": "yyDJZWoSq-ms",
        "outputId": "5be839d3-76e7-45bc-c461-71d20088dd3f"
      },
      "outputs": [
        {
          "data": {
            "text/html": [
              "\n",
              "<h2 style='font-family: Arial, Helvetica, sans-serif; color: white;'>News sentiment: +8</h2>\n",
              "<div style='font-family: Arial, Helvetica, sans-serif; font-size: 18px; color: white; line-height: 1.5; padding: 10px; border-radius: 5px;'>\n",
              "*The sentiment range is from -10 to +10 where -10 being the most negative, +10 being the most positve , and 0 being neutral.\n",
              "</div>\n"
            ],
            "text/plain": [
              "<IPython.core.display.HTML object>"
            ]
          },
          "metadata": {},
          "output_type": "display_data"
        }
      ],
      "source": [
        "prompt = ChatPromptTemplate.from_template(\"\"\"\n",
        "Identify the sentiment towards the {company} stocks of the news article from -10 to +10 where -10 being the most negative and +10 being the most positve , and 0 being neutral\n",
        "\n",
        "GIVE ANSWER IN ONLY ONE WORD AND THAT SHOULD BE THE SCORE. USE POSITIVE OR NEGATIVE SIGN ALONG WITH THE SCORE.\n",
        "\n",
        "News summary : {summary}\n",
        "\"\"\")\n",
        "\n",
        "output_parser = StrOutputParser()\n",
        "\n",
        "chain = prompt | model | output_parser\n",
        "\n",
        "news_sentiment = chain.invoke({\"summary\": news_summary, \"company\": company_name})\n",
        "\n",
        "display(HTML(f\"\"\"\n",
        "<h2 style='font-family: Arial, Helvetica, sans-serif; color: white;'>News sentiment: {news_sentiment}</h2>\n",
        "<div style='font-family: Arial, Helvetica, sans-serif; font-size: 18px; color: white; line-height: 1.5; padding: 10px; border-radius: 5px;'>\n",
        "*The sentiment range is from -10 to +10 where -10 being the most negative, +10 being the most positve , and 0 being neutral.\n",
        "</div>\n",
        "\"\"\"))"
      ]
    },
    {
      "cell_type": "markdown",
      "metadata": {
        "id": "1VTxRoxRrB1N"
      },
      "source": [
        "## 2. Annual Report Analysis"
      ]
    },
    {
      "cell_type": "code",
      "execution_count": null,
      "metadata": {
        "colab": {
          "base_uri": "https://localhost:8080/"
        },
        "id": "whVZyiVrrSm4",
        "outputId": "a558b819-7de0-44ab-d46c-3292913960cc"
      },
      "outputs": [
        {
          "name": "stderr",
          "output_type": "stream",
          "text": [
            "WARNING:easyocr.easyocr:Downloading detection model, please wait. This may take several minutes depending upon your network connection.\n"
          ]
        },
        {
          "name": "stdout",
          "output_type": "stream",
          "text": [
            "Progress: |██████████████████████████████████████████████████| 100.0% Complete"
          ]
        },
        {
          "name": "stderr",
          "output_type": "stream",
          "text": [
            "WARNING:easyocr.easyocr:Downloading recognition model, please wait. This may take several minutes depending upon your network connection.\n"
          ]
        },
        {
          "name": "stdout",
          "output_type": "stream",
          "text": [
            "Progress: |██████████████████████████████████████████████████| 100.0% Complete"
          ]
        }
      ],
      "source": [
        "import easyocr\n",
        "\n",
        "# Create a reader instance for English\n",
        "reader = easyocr.Reader(['en'])\n",
        "\n",
        "# Replace 'your_image.jpg' with the path to your image file\n",
        "image_path = '/content/sample_annual_report.png'\n",
        "\n",
        "# Use the reader to read the text from the image\n",
        "result = reader.readtext(image_path)"
      ]
    },
    {
      "cell_type": "code",
      "execution_count": null,
      "metadata": {
        "id": "dqKYONhZrTlq"
      },
      "outputs": [],
      "source": [
        "report = []\n",
        "\n",
        "for text in result:\n",
        "    report.append(text[1])\n",
        "\n",
        "report = \" \".join(report)"
      ]
    },
    {
      "cell_type": "code",
      "execution_count": null,
      "metadata": {
        "colab": {
          "base_uri": "https://localhost:8080/",
          "height": 327
        },
        "id": "o5giCHYRrdvI",
        "outputId": "4e945160-8bd0-472f-cc32-7763aa2cc481"
      },
      "outputs": [
        {
          "data": {
            "text/html": [
              "\n",
              "<h2 style='font-family: Arial, Helvetica, sans-serif; color: white;'>Annual Report Summary:</h2>\n",
              "<div style='font-family: Arial, Helvetica, sans-serif; font-size: 18px; color: white; line-height: 1.5; padding: 10px; border-radius: 5px;'>\n",
              "Reliance Industries Limited (RIL) maintains a strong financial performance with an \"ADD\" rating and a price target of INR 2,735 per share, driven by recovery in its O2C businesses, EBITDA growth in digital business through ARPU improvements, subscriber additions, and new revenue streams. The company's consolidated EBITDA rose to INR 352 billion, a 19% year-on-year increase, surpassing estimates, while its after-tax profit slightly missed forecasts at INR 158 billion, showing a marginal year-on-year decline but a 16% quarter-on-quarter increase. The O2C segment's EBITDA saw a significant 39% year-on-year increase, benefiting from improved middle distillate cracks, though offset by weaker margins in other areas. Oil and gas revenues doubled year-on-year, with EBITDA also seeing a substantial increase, attributed to better price realizations and higher production from the KG D6 block. Reliance Jio Platforms (RJPL) reported a 21% year-on-year revenue increase, with a notable rise in ARPU and subscriber growth. Reliance Retail's net revenue grew by 19% year-on-year, with digital and new commerce sales contributing significantly to core retail sales. The company's net debt increased due to higher capital expenditure, particularly towards 5G rollout and retail operations expansion. Overall, RIL's diverse operations across digital, retail, and energy sectors continue to drive its robust financial performance.\n",
              "</div>\n"
            ],
            "text/plain": [
              "<IPython.core.display.HTML object>"
            ]
          },
          "metadata": {},
          "output_type": "display_data"
        }
      ],
      "source": [
        "prompt = ChatPromptTemplate.from_template(\"\"\"\n",
        "I would like you to write a summary on financial report.\n",
        "I am going to tell you some of the relevant financial aspects of {company}.\n",
        "I will provide you a detailed financial report.\n",
        "Here you go: ```{report}```\n",
        "Write a brief summary on it.\n",
        "I do not need a summary of each individual line of the report.\n",
        "Your summary should be no more than 10 sentences long!\n",
        "\"\"\")\n",
        "\n",
        "output_parser = StrOutputParser()\n",
        "\n",
        "chain = prompt | model | output_parser\n",
        "\n",
        "report_summary = chain.invoke({\"report\": report, \"company\": company_name})\n",
        "\n",
        "display(HTML(f\"\"\"\n",
        "<h2 style='font-family: Arial, Helvetica, sans-serif; color: white;'>Annual Report Summary:</h2>\n",
        "<div style='font-family: Arial, Helvetica, sans-serif; font-size: 18px; color: white; line-height: 1.5; padding: 10px; border-radius: 5px;'>\n",
        "{report_summary}\n",
        "</div>\n",
        "\"\"\"))"
      ]
    },
    {
      "cell_type": "code",
      "execution_count": null,
      "metadata": {
        "colab": {
          "base_uri": "https://localhost:8080/",
          "height": 111
        },
        "id": "8Cnch8XhrjRD",
        "outputId": "0d9c9a56-2734-4abc-afb1-069b96d161b3"
      },
      "outputs": [
        {
          "data": {
            "text/html": [
              "\n",
              "<h2 style='font-family: Arial, Helvetica, sans-serif; color: white;'>Annual Report sentiment: +8</h2>\n",
              "<div style='font-family: Arial, Helvetica, sans-serif; font-size: 18px; color: white; line-height: 1.5; padding: 10px; border-radius: 5px;'>\n",
              "*The sentiment range is from -10 to +10 where -10 being the most negative, +10 being the most positve , and 0 being neutral.\n",
              "</div>\n"
            ],
            "text/plain": [
              "<IPython.core.display.HTML object>"
            ]
          },
          "metadata": {},
          "output_type": "display_data"
        }
      ],
      "source": [
        "prompt = ChatPromptTemplate.from_template(\"\"\"\n",
        "Identify the sentiment towards the {company} stocks of the financial report from -10 to +10 where -10 being the most negative and +10 being the most positve , and 0 being neutral\n",
        "\n",
        "GIVE ANSWER IN ONLY ONE WORD AND THAT SHOULD BE THE SCORE. USE POSITIVE OR NEGATIVE SIGN ALONG WITH THE SCORE.\n",
        "\n",
        "Financial report : {report}\n",
        "\"\"\")\n",
        "\n",
        "output_parser = StrOutputParser()\n",
        "\n",
        "chain = prompt | model | output_parser\n",
        "\n",
        "report_sentiment = chain.invoke({\"report\": report, \"company\": company_name})\n",
        "\n",
        "display(HTML(f\"\"\"\n",
        "<h2 style='font-family: Arial, Helvetica, sans-serif; color: white;'>Annual Report sentiment: {report_sentiment}</h2>\n",
        "<div style='font-family: Arial, Helvetica, sans-serif; font-size: 18px; color: white; line-height: 1.5; padding: 10px; border-radius: 5px;'>\n",
        "*The sentiment range is from -10 to +10 where -10 being the most negative, +10 being the most positve , and 0 being neutral.\n",
        "</div>\n",
        "\"\"\"))"
      ]
    },
    {
      "cell_type": "markdown",
      "metadata": {
        "id": "HJ5JxwK2TjB1"
      },
      "source": [
        "## Formating"
      ]
    },
    {
      "cell_type": "code",
      "execution_count": null,
      "metadata": {
        "colab": {
          "base_uri": "https://localhost:8080/"
        },
        "id": "YG_dENNyxD56",
        "outputId": "8490e75d-577b-4b36-c781-d2dce692554d"
      },
      "outputs": [
        {
          "name": "stdout",
          "output_type": "stream",
          "text": [
            "<h3>Fundamental Analysis Report of Reliance Industries Limited</h3>\n",
            "<h4>1. Company Name: Reliance Industries Limited</h4>\n",
            "<h4>2. About the Company:</h4>\n",
            "<p>Reliance Industries Limited (RIL) is a diversified conglomerate with businesses spanning across sectors such as petrochemicals, refining, oil &amp; gas exploration, telecommunications, and retail. It is one of India's largest private sector companies.</p>\n",
            "<h4>3. Display the Data and Values:</h4>\n",
            "<ul>\n",
            "<li><strong>Revenue from Operations (Net) for FY 2022-23:</strong> Rs. 528,315 Crores</li>\n",
            "<li><strong>Total Revenue for FY 2022-23:</strong> Rs. 539,544 Crores</li>\n",
            "<li><strong>Profit/Loss Before Tax for FY 2022-23:</strong> Rs. 54,133 Crores</li>\n",
            "<li><strong>Profit/Loss After Tax for FY 2022-23:</strong> Rs. 43,017 Crores</li>\n",
            "<li><strong>Basic EPS for FY 2022-23:</strong> Rs. 65.34</li>\n",
            "<li><strong>Equity Share Dividend for FY 2022-23:</strong> Rs. 5,083 Crores</li>\n",
            "<li><strong>Equity Dividend Rate for FY 2022-23:</strong> 90%</li>\n",
            "</ul>\n",
            "<h4>4. Financial Ratios and Implications:</h4>\n",
            "<ul>\n",
            "<li>\n",
            "<p><strong>CAGR (3 Years):</strong> The Compound Annual Growth Rate (CAGR) for revenue from operations is not directly provided, but the growth from FY 2019-20 to FY 2022-23 indicates a strong upward trajectory, suggesting a robust expansion of the company's business operations.</p>\n",
            "</li>\n",
            "<li>\n",
            "<p><strong>Profit Margin:</strong> The profit after tax for FY 2022-23 is Rs. 43,017 Crores on a total revenue of Rs. 539,544 Crores, resulting in a profit margin of approximately 7.97%. This indicates a healthy profitability level, showcasing the company's ability to convert sales into actual profits effectively.</p>\n",
            "</li>\n",
            "<li>\n",
            "<p><strong>Earnings Per Share (EPS):</strong> The Basic EPS of Rs. 65.34 for FY 2022-23 indicates the amount of profit attributable to each share of the company. An increasing EPS trend suggests that the company is becoming more profitable, which is a positive sign for investors.</p>\n",
            "</li>\n",
            "<li>\n",
            "<p><strong>Dividend Rate:</strong> The equity dividend rate of 90% for FY 2022-23 is a strong indicator of the company's commitment to returning value to its shareholders. It reflects the company's financial health and its confidence in future cash flows.</p>\n",
            "</li>\n",
            "</ul>\n",
            "<h4>5. Sentiment of the Stock: Strong Buy</h4>\n",
            "<p>Based on the financial analysis of Reliance Industries Limited, the sentiment towards the stock is a <strong>Strong Buy</strong>. The reasons are as follows:</p>\n",
            "<ul>\n",
            "<li>\n",
            "<p><strong>Growth:</strong> The company has shown significant growth in revenue and profitability over the past few years, indicating strong business operations and market presence.</p>\n",
            "</li>\n",
            "<li>\n",
            "<p><strong>Profitability:</strong> The profit margins and EPS growth suggest that the company is not only growing but also becoming more efficient and profitable, which is a positive sign for potential investors.</p>\n",
            "</li>\n",
            "<li>\n",
            "<p><strong>Dividend:</strong> The high dividend rate showcases the company's ability to generate ample cash flows and its willingness to share profits with shareholders, making it an attractive investment for income-seeking investors.</p>\n",
            "</li>\n",
            "<li>\n",
            "<p><strong>Diversification:</strong> RIL's diversified business model across critical sectors provides a hedge against sector-specific risks and allows for multiple streams of income, contributing to the overall stability and growth prospects of the company.</p>\n",
            "</li>\n",
            "</ul>\n",
            "<p>In conclusion, Reliance Industries Limited presents a compelling investment opportunity based on its strong financial performance, growth prospects, and shareholder-friendly policies. However, investors are advised to consider their investment goals, risk tolerance, and market conditions before making investment decisions.</p>\n",
            "<p>In a series of significant developments throughout February and March 2024, Reliance Industries Limited (RIL) led by Mukesh Ambani has made substantial strides in expanding its business empire and consolidating its position in the Indian market. The company marked a historic milestone by becoming the first Indian company to cross Rs 20 lakh crore in market capitalisation in February, underscoring its dominant position in the country's corporate landscape. A major highlight was the announcement of a merger between RIL's media business and Disney, creating an $8.5 billion joint venture that aims to transform India's media and entertainment landscape. Additionally, RIL's ventures into new domains, including the setup of EV charging infrastructure through Jio-bp and entering the soundbox segment with Jio Payments, indicate its aggressive push towards diversification and innovation. These moves, coupled with strategic partnerships and expansions, such as the potential talks with Paramount for a stake sale and the launch of an AI model backed by Mukesh Ambani, further cement RIL's influence across various sectors in India.</p>\n",
            "<p>Reliance Industries Limited (RIL) maintains a strong financial performance with an \"ADD\" rating and a price target of INR 2,735 per share, driven by recovery in its O2C businesses, EBITDA growth in digital business through ARPU improvements, subscriber additions, and new revenue streams. The company's consolidated EBITDA rose to INR 352 billion, a 19% year-on-year increase, surpassing estimates, while its after-tax profit slightly missed forecasts at INR 158 billion, showing a marginal year-on-year decline but a 16% quarter-on-quarter increase. The O2C segment's EBITDA saw a significant 39% year-on-year increase, benefiting from improved middle distillate cracks, though offset by weaker margins in other areas. Oil and gas revenues doubled year-on-year, with EBITDA also seeing a substantial increase, attributed to better price realizations and higher production from the KG D6 block. Reliance Jio Platforms (RJPL) reported a 21% year-on-year revenue increase, with a notable rise in ARPU and subscriber growth. Reliance Retail's net revenue grew by 19% year-on-year, with digital and new commerce sales contributing significantly to core retail sales. The company's net debt increased due to higher capital expenditure, particularly towards 5G rollout and retail operations expansion. Overall, RIL's diverse operations across digital, retail, and energy sectors continue to drive its robust financial performance.</p>\n"
          ]
        }
      ],
      "source": [
        "import markdown\n",
        "\n",
        "# Concatenate the new paragraph to the existing content\n",
        "summary_with_new_paragraph = quantitative_analysis + \"\\n\\n\" + news_summary + \"\\n\\n\" + report_summary\n",
        "\n",
        "# Convert the updated Markdown to HTML\n",
        "html_content_with_new_paragraph = markdown.markdown(summary_with_new_paragraph)\n",
        "\n",
        "# Print or save the updated HTML content\n",
        "print(html_content_with_new_paragraph)\n"
      ]
    }
  ],
  "metadata": {
    "accelerator": "GPU",
    "colab": {
      "gpuType": "T4",
      "provenance": []
    },
    "kernelspec": {
      "display_name": "Python 3",
      "name": "python3"
    },
    "language_info": {
      "name": "python"
    }
  },
  "nbformat": 4,
  "nbformat_minor": 0
}
